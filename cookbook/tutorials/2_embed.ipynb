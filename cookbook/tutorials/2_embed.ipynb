{
  "cells": [
    {
      "cell_type": "markdown",
      "metadata": {
        "id": "JDmo87xW9DRy"
      },
      "source": [
        "In this notebook we will see how to embed a batch of sequences using ESM C, as well as explore its different layers"
      ]
    },
    {
      "cell_type": "markdown",
      "metadata": {
        "id": "zsw4F18n9DRz"
      },
      "source": [
        "# Set up Forge client for ESM C"
      ]
    },
    {
      "cell_type": "markdown",
      "metadata": {
        "id": "6jDvkfrg9DRz"
      },
      "source": [
        "Grab a token from [the Forge console](https://forge.evolutionaryscale.ai/console) and add it below. Note that your token is like a password for your account and you should take care to protect it. For this reason it is recommended to frequently create a new token and delete old, unused ones. It is also recommended to paste the token directly into an environment variable or use a utility like `getpass` as shown below so tokens are not accidentally shared or checked into code repositories."
      ]
    },
    {
      "cell_type": "code",
      "execution_count": 1,
      "metadata": {
        "colab": {
          "base_uri": "https://localhost:8080/"
        },
        "id": "eiKkeGLh9DR0",
        "outputId": "77988fda-b165-4e5b-e9d5-709c695f399d"
      },
      "outputs": [
        {
          "output_type": "stream",
          "name": "stdout",
          "text": [
            "Collecting esm\n",
            "  Downloading esm-3.1.4-py3-none-any.whl.metadata (16 kB)\n",
            "Requirement already satisfied: torch>=2.2.0 in /usr/local/lib/python3.11/dist-packages (from esm) (2.5.1+cu124)\n",
            "Requirement already satisfied: torchvision in /usr/local/lib/python3.11/dist-packages (from esm) (0.20.1+cu124)\n",
            "Collecting torchtext (from esm)\n",
            "  Downloading torchtext-0.18.0-cp311-cp311-manylinux1_x86_64.whl.metadata (7.9 kB)\n",
            "Collecting transformers<4.47.0 (from esm)\n",
            "  Downloading transformers-4.46.3-py3-none-any.whl.metadata (44 kB)\n",
            "\u001b[2K     \u001b[90m━━━━━━━━━━━━━━━━━━━━━━━━━━━━━━━━━━━━━━━━\u001b[0m \u001b[32m44.1/44.1 kB\u001b[0m \u001b[31m1.9 MB/s\u001b[0m eta \u001b[36m0:00:00\u001b[0m\n",
            "\u001b[?25hRequirement already satisfied: ipython in /usr/local/lib/python3.11/dist-packages (from esm) (7.34.0)\n",
            "Requirement already satisfied: einops in /usr/local/lib/python3.11/dist-packages (from esm) (0.8.1)\n",
            "Collecting biotite==0.41.2 (from esm)\n",
            "  Downloading biotite-0.41.2-cp311-cp311-manylinux_2_17_x86_64.manylinux2014_x86_64.whl.metadata (7.1 kB)\n",
            "Collecting msgpack-numpy (from esm)\n",
            "  Downloading msgpack_numpy-0.4.8-py2.py3-none-any.whl.metadata (5.0 kB)\n",
            "Collecting biopython (from esm)\n",
            "  Downloading biopython-1.85-cp311-cp311-manylinux_2_17_x86_64.manylinux2014_x86_64.whl.metadata (13 kB)\n",
            "Requirement already satisfied: scikit-learn in /usr/local/lib/python3.11/dist-packages (from esm) (1.6.1)\n",
            "Collecting brotli (from esm)\n",
            "  Downloading Brotli-1.1.0-cp311-cp311-manylinux_2_17_x86_64.manylinux2014_x86_64.whl.metadata (5.5 kB)\n",
            "Requirement already satisfied: attrs in /usr/local/lib/python3.11/dist-packages (from esm) (25.1.0)\n",
            "Requirement already satisfied: pandas in /usr/local/lib/python3.11/dist-packages (from esm) (2.2.2)\n",
            "Requirement already satisfied: cloudpathlib in /usr/local/lib/python3.11/dist-packages (from esm) (0.20.0)\n",
            "Requirement already satisfied: tenacity in /usr/local/lib/python3.11/dist-packages (from esm) (9.0.0)\n",
            "Collecting zstd (from esm)\n",
            "  Downloading zstd-1.5.6.5-cp311-cp311-manylinux_2_34_x86_64.whl.metadata (20 kB)\n",
            "Requirement already satisfied: msgpack>=0.5.6 in /usr/local/lib/python3.11/dist-packages (from biotite==0.41.2->esm) (1.1.0)\n",
            "Requirement already satisfied: networkx>=2.0 in /usr/local/lib/python3.11/dist-packages (from biotite==0.41.2->esm) (3.4.2)\n",
            "Requirement already satisfied: numpy<2.0,>=1.14.5 in /usr/local/lib/python3.11/dist-packages (from biotite==0.41.2->esm) (1.26.4)\n",
            "Requirement already satisfied: requests>=2.12 in /usr/local/lib/python3.11/dist-packages (from biotite==0.41.2->esm) (2.32.3)\n",
            "Requirement already satisfied: filelock in /usr/local/lib/python3.11/dist-packages (from torch>=2.2.0->esm) (3.17.0)\n",
            "Requirement already satisfied: typing-extensions>=4.8.0 in /usr/local/lib/python3.11/dist-packages (from torch>=2.2.0->esm) (4.12.2)\n",
            "Requirement already satisfied: jinja2 in /usr/local/lib/python3.11/dist-packages (from torch>=2.2.0->esm) (3.1.5)\n",
            "Requirement already satisfied: fsspec in /usr/local/lib/python3.11/dist-packages (from torch>=2.2.0->esm) (2024.10.0)\n",
            "Collecting nvidia-cuda-nvrtc-cu12==12.4.127 (from torch>=2.2.0->esm)\n",
            "  Downloading nvidia_cuda_nvrtc_cu12-12.4.127-py3-none-manylinux2014_x86_64.whl.metadata (1.5 kB)\n",
            "Collecting nvidia-cuda-runtime-cu12==12.4.127 (from torch>=2.2.0->esm)\n",
            "  Downloading nvidia_cuda_runtime_cu12-12.4.127-py3-none-manylinux2014_x86_64.whl.metadata (1.5 kB)\n",
            "Collecting nvidia-cuda-cupti-cu12==12.4.127 (from torch>=2.2.0->esm)\n",
            "  Downloading nvidia_cuda_cupti_cu12-12.4.127-py3-none-manylinux2014_x86_64.whl.metadata (1.6 kB)\n",
            "Collecting nvidia-cudnn-cu12==9.1.0.70 (from torch>=2.2.0->esm)\n",
            "  Downloading nvidia_cudnn_cu12-9.1.0.70-py3-none-manylinux2014_x86_64.whl.metadata (1.6 kB)\n",
            "Collecting nvidia-cublas-cu12==12.4.5.8 (from torch>=2.2.0->esm)\n",
            "  Downloading nvidia_cublas_cu12-12.4.5.8-py3-none-manylinux2014_x86_64.whl.metadata (1.5 kB)\n",
            "Collecting nvidia-cufft-cu12==11.2.1.3 (from torch>=2.2.0->esm)\n",
            "  Downloading nvidia_cufft_cu12-11.2.1.3-py3-none-manylinux2014_x86_64.whl.metadata (1.5 kB)\n",
            "Collecting nvidia-curand-cu12==10.3.5.147 (from torch>=2.2.0->esm)\n",
            "  Downloading nvidia_curand_cu12-10.3.5.147-py3-none-manylinux2014_x86_64.whl.metadata (1.5 kB)\n",
            "Collecting nvidia-cusolver-cu12==11.6.1.9 (from torch>=2.2.0->esm)\n",
            "  Downloading nvidia_cusolver_cu12-11.6.1.9-py3-none-manylinux2014_x86_64.whl.metadata (1.6 kB)\n",
            "Collecting nvidia-cusparse-cu12==12.3.1.170 (from torch>=2.2.0->esm)\n",
            "  Downloading nvidia_cusparse_cu12-12.3.1.170-py3-none-manylinux2014_x86_64.whl.metadata (1.6 kB)\n",
            "Requirement already satisfied: nvidia-nccl-cu12==2.21.5 in /usr/local/lib/python3.11/dist-packages (from torch>=2.2.0->esm) (2.21.5)\n",
            "Requirement already satisfied: nvidia-nvtx-cu12==12.4.127 in /usr/local/lib/python3.11/dist-packages (from torch>=2.2.0->esm) (12.4.127)\n",
            "Collecting nvidia-nvjitlink-cu12==12.4.127 (from torch>=2.2.0->esm)\n",
            "  Downloading nvidia_nvjitlink_cu12-12.4.127-py3-none-manylinux2014_x86_64.whl.metadata (1.5 kB)\n",
            "Requirement already satisfied: triton==3.1.0 in /usr/local/lib/python3.11/dist-packages (from torch>=2.2.0->esm) (3.1.0)\n",
            "Requirement already satisfied: sympy==1.13.1 in /usr/local/lib/python3.11/dist-packages (from torch>=2.2.0->esm) (1.13.1)\n",
            "Requirement already satisfied: mpmath<1.4,>=1.1.0 in /usr/local/lib/python3.11/dist-packages (from sympy==1.13.1->torch>=2.2.0->esm) (1.3.0)\n",
            "Requirement already satisfied: huggingface-hub<1.0,>=0.23.2 in /usr/local/lib/python3.11/dist-packages (from transformers<4.47.0->esm) (0.28.1)\n",
            "Requirement already satisfied: packaging>=20.0 in /usr/local/lib/python3.11/dist-packages (from transformers<4.47.0->esm) (24.2)\n",
            "Requirement already satisfied: pyyaml>=5.1 in /usr/local/lib/python3.11/dist-packages (from transformers<4.47.0->esm) (6.0.2)\n",
            "Requirement already satisfied: regex!=2019.12.17 in /usr/local/lib/python3.11/dist-packages (from transformers<4.47.0->esm) (2024.11.6)\n",
            "Collecting tokenizers<0.21,>=0.20 (from transformers<4.47.0->esm)\n",
            "  Downloading tokenizers-0.20.3-cp311-cp311-manylinux_2_17_x86_64.manylinux2014_x86_64.whl.metadata (6.7 kB)\n",
            "Requirement already satisfied: safetensors>=0.4.1 in /usr/local/lib/python3.11/dist-packages (from transformers<4.47.0->esm) (0.5.3)\n",
            "Requirement already satisfied: tqdm>=4.27 in /usr/local/lib/python3.11/dist-packages (from transformers<4.47.0->esm) (4.67.1)\n",
            "Requirement already satisfied: setuptools>=18.5 in /usr/local/lib/python3.11/dist-packages (from ipython->esm) (75.1.0)\n",
            "Collecting jedi>=0.16 (from ipython->esm)\n",
            "  Downloading jedi-0.19.2-py2.py3-none-any.whl.metadata (22 kB)\n",
            "Requirement already satisfied: decorator in /usr/local/lib/python3.11/dist-packages (from ipython->esm) (4.4.2)\n",
            "Requirement already satisfied: pickleshare in /usr/local/lib/python3.11/dist-packages (from ipython->esm) (0.7.5)\n",
            "Requirement already satisfied: traitlets>=4.2 in /usr/local/lib/python3.11/dist-packages (from ipython->esm) (5.7.1)\n",
            "Requirement already satisfied: prompt-toolkit!=3.0.0,!=3.0.1,<3.1.0,>=2.0.0 in /usr/local/lib/python3.11/dist-packages (from ipython->esm) (3.0.50)\n",
            "Requirement already satisfied: pygments in /usr/local/lib/python3.11/dist-packages (from ipython->esm) (2.18.0)\n",
            "Requirement already satisfied: backcall in /usr/local/lib/python3.11/dist-packages (from ipython->esm) (0.2.0)\n",
            "Requirement already satisfied: matplotlib-inline in /usr/local/lib/python3.11/dist-packages (from ipython->esm) (0.1.7)\n",
            "Requirement already satisfied: pexpect>4.3 in /usr/local/lib/python3.11/dist-packages (from ipython->esm) (4.9.0)\n",
            "Requirement already satisfied: python-dateutil>=2.8.2 in /usr/local/lib/python3.11/dist-packages (from pandas->esm) (2.8.2)\n",
            "Requirement already satisfied: pytz>=2020.1 in /usr/local/lib/python3.11/dist-packages (from pandas->esm) (2025.1)\n",
            "Requirement already satisfied: tzdata>=2022.7 in /usr/local/lib/python3.11/dist-packages (from pandas->esm) (2025.1)\n",
            "Requirement already satisfied: scipy>=1.6.0 in /usr/local/lib/python3.11/dist-packages (from scikit-learn->esm) (1.13.1)\n",
            "Requirement already satisfied: joblib>=1.2.0 in /usr/local/lib/python3.11/dist-packages (from scikit-learn->esm) (1.4.2)\n",
            "Requirement already satisfied: threadpoolctl>=3.1.0 in /usr/local/lib/python3.11/dist-packages (from scikit-learn->esm) (3.5.0)\n",
            "Requirement already satisfied: pillow!=8.3.*,>=5.3.0 in /usr/local/lib/python3.11/dist-packages (from torchvision->esm) (11.1.0)\n",
            "Requirement already satisfied: parso<0.9.0,>=0.8.4 in /usr/local/lib/python3.11/dist-packages (from jedi>=0.16->ipython->esm) (0.8.4)\n",
            "Requirement already satisfied: ptyprocess>=0.5 in /usr/local/lib/python3.11/dist-packages (from pexpect>4.3->ipython->esm) (0.7.0)\n",
            "Requirement already satisfied: wcwidth in /usr/local/lib/python3.11/dist-packages (from prompt-toolkit!=3.0.0,!=3.0.1,<3.1.0,>=2.0.0->ipython->esm) (0.2.13)\n",
            "Requirement already satisfied: six>=1.5 in /usr/local/lib/python3.11/dist-packages (from python-dateutil>=2.8.2->pandas->esm) (1.17.0)\n",
            "Requirement already satisfied: charset-normalizer<4,>=2 in /usr/local/lib/python3.11/dist-packages (from requests>=2.12->biotite==0.41.2->esm) (3.4.1)\n",
            "Requirement already satisfied: idna<4,>=2.5 in /usr/local/lib/python3.11/dist-packages (from requests>=2.12->biotite==0.41.2->esm) (3.10)\n",
            "Requirement already satisfied: urllib3<3,>=1.21.1 in /usr/local/lib/python3.11/dist-packages (from requests>=2.12->biotite==0.41.2->esm) (2.3.0)\n",
            "Requirement already satisfied: certifi>=2017.4.17 in /usr/local/lib/python3.11/dist-packages (from requests>=2.12->biotite==0.41.2->esm) (2025.1.31)\n",
            "Requirement already satisfied: MarkupSafe>=2.0 in /usr/local/lib/python3.11/dist-packages (from jinja2->torch>=2.2.0->esm) (3.0.2)\n",
            "Downloading esm-3.1.4-py3-none-any.whl (2.4 MB)\n",
            "\u001b[2K   \u001b[90m━━━━━━━━━━━━━━━━━━━━━━━━━━━━━━━━━━━━━━━━\u001b[0m \u001b[32m2.4/2.4 MB\u001b[0m \u001b[31m16.4 MB/s\u001b[0m eta \u001b[36m0:00:00\u001b[0m\n",
            "\u001b[?25hDownloading biotite-0.41.2-cp311-cp311-manylinux_2_17_x86_64.manylinux2014_x86_64.whl (37.0 MB)\n",
            "\u001b[2K   \u001b[90m━━━━━━━━━━━━━━━━━━━━━━━━━━━━━━━━━━━━━━━━\u001b[0m \u001b[32m37.0/37.0 MB\u001b[0m \u001b[31m18.7 MB/s\u001b[0m eta \u001b[36m0:00:00\u001b[0m\n",
            "\u001b[?25hDownloading nvidia_cublas_cu12-12.4.5.8-py3-none-manylinux2014_x86_64.whl (363.4 MB)\n",
            "\u001b[2K   \u001b[90m━━━━━━━━━━━━━━━━━━━━━━━━━━━━━━━━━━━━━━━━\u001b[0m \u001b[32m363.4/363.4 MB\u001b[0m \u001b[31m3.1 MB/s\u001b[0m eta \u001b[36m0:00:00\u001b[0m\n",
            "\u001b[?25hDownloading nvidia_cuda_cupti_cu12-12.4.127-py3-none-manylinux2014_x86_64.whl (13.8 MB)\n",
            "\u001b[2K   \u001b[90m━━━━━━━━━━━━━━━━━━━━━━━━━━━━━━━━━━━━━━━━\u001b[0m \u001b[32m13.8/13.8 MB\u001b[0m \u001b[31m34.0 MB/s\u001b[0m eta \u001b[36m0:00:00\u001b[0m\n",
            "\u001b[?25hDownloading nvidia_cuda_nvrtc_cu12-12.4.127-py3-none-manylinux2014_x86_64.whl (24.6 MB)\n",
            "\u001b[2K   \u001b[90m━━━━━━━━━━━━━━━━━━━━━━━━━━━━━━━━━━━━━━━━\u001b[0m \u001b[32m24.6/24.6 MB\u001b[0m \u001b[31m33.3 MB/s\u001b[0m eta \u001b[36m0:00:00\u001b[0m\n",
            "\u001b[?25hDownloading nvidia_cuda_runtime_cu12-12.4.127-py3-none-manylinux2014_x86_64.whl (883 kB)\n",
            "\u001b[2K   \u001b[90m━━━━━━━━━━━━━━━━━━━━━━━━━━━━━━━━━━━━━━━━\u001b[0m \u001b[32m883.7/883.7 kB\u001b[0m \u001b[31m35.9 MB/s\u001b[0m eta \u001b[36m0:00:00\u001b[0m\n",
            "\u001b[?25hDownloading nvidia_cudnn_cu12-9.1.0.70-py3-none-manylinux2014_x86_64.whl (664.8 MB)\n",
            "\u001b[2K   \u001b[90m━━━━━━━━━━━━━━━━━━━━━━━━━━━━━━━━━━━━━━━━\u001b[0m \u001b[32m664.8/664.8 MB\u001b[0m \u001b[31m2.2 MB/s\u001b[0m eta \u001b[36m0:00:00\u001b[0m\n",
            "\u001b[?25hDownloading nvidia_cufft_cu12-11.2.1.3-py3-none-manylinux2014_x86_64.whl (211.5 MB)\n",
            "\u001b[2K   \u001b[90m━━━━━━━━━━━━━━━━━━━━━━━━━━━━━━━━━━━━━━━━\u001b[0m \u001b[32m211.5/211.5 MB\u001b[0m \u001b[31m5.3 MB/s\u001b[0m eta \u001b[36m0:00:00\u001b[0m\n",
            "\u001b[?25hDownloading nvidia_curand_cu12-10.3.5.147-py3-none-manylinux2014_x86_64.whl (56.3 MB)\n",
            "\u001b[2K   \u001b[90m━━━━━━━━━━━━━━━━━━━━━━━━━━━━━━━━━━━━━━━━\u001b[0m \u001b[32m56.3/56.3 MB\u001b[0m \u001b[31m9.2 MB/s\u001b[0m eta \u001b[36m0:00:00\u001b[0m\n",
            "\u001b[?25hDownloading nvidia_cusolver_cu12-11.6.1.9-py3-none-manylinux2014_x86_64.whl (127.9 MB)\n",
            "\u001b[2K   \u001b[90m━━━━━━━━━━━━━━━━━━━━━━━━━━━━━━━━━━━━━━━━\u001b[0m \u001b[32m127.9/127.9 MB\u001b[0m \u001b[31m6.9 MB/s\u001b[0m eta \u001b[36m0:00:00\u001b[0m\n",
            "\u001b[?25hDownloading nvidia_cusparse_cu12-12.3.1.170-py3-none-manylinux2014_x86_64.whl (207.5 MB)\n",
            "\u001b[2K   \u001b[90m━━━━━━━━━━━━━━━━━━━━━━━━━━━━━━━━━━━━━━━━\u001b[0m \u001b[32m207.5/207.5 MB\u001b[0m \u001b[31m5.6 MB/s\u001b[0m eta \u001b[36m0:00:00\u001b[0m\n",
            "\u001b[?25hDownloading nvidia_nvjitlink_cu12-12.4.127-py3-none-manylinux2014_x86_64.whl (21.1 MB)\n",
            "\u001b[2K   \u001b[90m━━━━━━━━━━━━━━━━━━━━━━━━━━━━━━━━━━━━━━━━\u001b[0m \u001b[32m21.1/21.1 MB\u001b[0m \u001b[31m61.9 MB/s\u001b[0m eta \u001b[36m0:00:00\u001b[0m\n",
            "\u001b[?25hDownloading transformers-4.46.3-py3-none-any.whl (10.0 MB)\n",
            "\u001b[2K   \u001b[90m━━━━━━━━━━━━━━━━━━━━━━━━━━━━━━━━━━━━━━━━\u001b[0m \u001b[32m10.0/10.0 MB\u001b[0m \u001b[31m76.3 MB/s\u001b[0m eta \u001b[36m0:00:00\u001b[0m\n",
            "\u001b[?25hDownloading biopython-1.85-cp311-cp311-manylinux_2_17_x86_64.manylinux2014_x86_64.whl (3.3 MB)\n",
            "\u001b[2K   \u001b[90m━━━━━━━━━━━━━━━━━━━━━━━━━━━━━━━━━━━━━━━━\u001b[0m \u001b[32m3.3/3.3 MB\u001b[0m \u001b[31m71.5 MB/s\u001b[0m eta \u001b[36m0:00:00\u001b[0m\n",
            "\u001b[?25hDownloading Brotli-1.1.0-cp311-cp311-manylinux_2_17_x86_64.manylinux2014_x86_64.whl (2.9 MB)\n",
            "\u001b[2K   \u001b[90m━━━━━━━━━━━━━━━━━━━━━━━━━━━━━━━━━━━━━━━━\u001b[0m \u001b[32m2.9/2.9 MB\u001b[0m \u001b[31m75.0 MB/s\u001b[0m eta \u001b[36m0:00:00\u001b[0m\n",
            "\u001b[?25hDownloading msgpack_numpy-0.4.8-py2.py3-none-any.whl (6.9 kB)\n",
            "Downloading torchtext-0.18.0-cp311-cp311-manylinux1_x86_64.whl (2.0 MB)\n",
            "\u001b[2K   \u001b[90m━━━━━━━━━━━━━━━━━━━━━━━━━━━━━━━━━━━━━━━━\u001b[0m \u001b[32m2.0/2.0 MB\u001b[0m \u001b[31m55.3 MB/s\u001b[0m eta \u001b[36m0:00:00\u001b[0m\n",
            "\u001b[?25hDownloading zstd-1.5.6.5-cp311-cp311-manylinux_2_34_x86_64.whl (1.7 MB)\n",
            "\u001b[2K   \u001b[90m━━━━━━━━━━━━━━━━━━━━━━━━━━━━━━━━━━━━━━━━\u001b[0m \u001b[32m1.7/1.7 MB\u001b[0m \u001b[31m48.9 MB/s\u001b[0m eta \u001b[36m0:00:00\u001b[0m\n",
            "\u001b[?25hDownloading jedi-0.19.2-py2.py3-none-any.whl (1.6 MB)\n",
            "\u001b[2K   \u001b[90m━━━━━━━━━━━━━━━━━━━━━━━━━━━━━━━━━━━━━━━━\u001b[0m \u001b[32m1.6/1.6 MB\u001b[0m \u001b[31m55.9 MB/s\u001b[0m eta \u001b[36m0:00:00\u001b[0m\n",
            "\u001b[?25hDownloading tokenizers-0.20.3-cp311-cp311-manylinux_2_17_x86_64.manylinux2014_x86_64.whl (3.0 MB)\n",
            "\u001b[2K   \u001b[90m━━━━━━━━━━━━━━━━━━━━━━━━━━━━━━━━━━━━━━━━\u001b[0m \u001b[32m3.0/3.0 MB\u001b[0m \u001b[31m65.3 MB/s\u001b[0m eta \u001b[36m0:00:00\u001b[0m\n",
            "\u001b[?25hInstalling collected packages: zstd, brotli, nvidia-nvjitlink-cu12, nvidia-curand-cu12, nvidia-cufft-cu12, nvidia-cuda-runtime-cu12, nvidia-cuda-nvrtc-cu12, nvidia-cuda-cupti-cu12, nvidia-cublas-cu12, msgpack-numpy, jedi, biopython, nvidia-cusparse-cu12, nvidia-cudnn-cu12, biotite, tokenizers, nvidia-cusolver-cu12, transformers, torchtext, esm\n",
            "  Attempting uninstall: nvidia-nvjitlink-cu12\n",
            "    Found existing installation: nvidia-nvjitlink-cu12 12.5.82\n",
            "    Uninstalling nvidia-nvjitlink-cu12-12.5.82:\n",
            "      Successfully uninstalled nvidia-nvjitlink-cu12-12.5.82\n",
            "  Attempting uninstall: nvidia-curand-cu12\n",
            "    Found existing installation: nvidia-curand-cu12 10.3.6.82\n",
            "    Uninstalling nvidia-curand-cu12-10.3.6.82:\n",
            "      Successfully uninstalled nvidia-curand-cu12-10.3.6.82\n",
            "  Attempting uninstall: nvidia-cufft-cu12\n",
            "    Found existing installation: nvidia-cufft-cu12 11.2.3.61\n",
            "    Uninstalling nvidia-cufft-cu12-11.2.3.61:\n",
            "      Successfully uninstalled nvidia-cufft-cu12-11.2.3.61\n",
            "  Attempting uninstall: nvidia-cuda-runtime-cu12\n",
            "    Found existing installation: nvidia-cuda-runtime-cu12 12.5.82\n",
            "    Uninstalling nvidia-cuda-runtime-cu12-12.5.82:\n",
            "      Successfully uninstalled nvidia-cuda-runtime-cu12-12.5.82\n",
            "  Attempting uninstall: nvidia-cuda-nvrtc-cu12\n",
            "    Found existing installation: nvidia-cuda-nvrtc-cu12 12.5.82\n",
            "    Uninstalling nvidia-cuda-nvrtc-cu12-12.5.82:\n",
            "      Successfully uninstalled nvidia-cuda-nvrtc-cu12-12.5.82\n",
            "  Attempting uninstall: nvidia-cuda-cupti-cu12\n",
            "    Found existing installation: nvidia-cuda-cupti-cu12 12.5.82\n",
            "    Uninstalling nvidia-cuda-cupti-cu12-12.5.82:\n",
            "      Successfully uninstalled nvidia-cuda-cupti-cu12-12.5.82\n",
            "  Attempting uninstall: nvidia-cublas-cu12\n",
            "    Found existing installation: nvidia-cublas-cu12 12.5.3.2\n",
            "    Uninstalling nvidia-cublas-cu12-12.5.3.2:\n",
            "      Successfully uninstalled nvidia-cublas-cu12-12.5.3.2\n",
            "  Attempting uninstall: nvidia-cusparse-cu12\n",
            "    Found existing installation: nvidia-cusparse-cu12 12.5.1.3\n",
            "    Uninstalling nvidia-cusparse-cu12-12.5.1.3:\n",
            "      Successfully uninstalled nvidia-cusparse-cu12-12.5.1.3\n",
            "  Attempting uninstall: nvidia-cudnn-cu12\n",
            "    Found existing installation: nvidia-cudnn-cu12 9.3.0.75\n",
            "    Uninstalling nvidia-cudnn-cu12-9.3.0.75:\n",
            "      Successfully uninstalled nvidia-cudnn-cu12-9.3.0.75\n",
            "  Attempting uninstall: tokenizers\n",
            "    Found existing installation: tokenizers 0.21.0\n",
            "    Uninstalling tokenizers-0.21.0:\n",
            "      Successfully uninstalled tokenizers-0.21.0\n",
            "  Attempting uninstall: nvidia-cusolver-cu12\n",
            "    Found existing installation: nvidia-cusolver-cu12 11.6.3.83\n",
            "    Uninstalling nvidia-cusolver-cu12-11.6.3.83:\n",
            "      Successfully uninstalled nvidia-cusolver-cu12-11.6.3.83\n",
            "  Attempting uninstall: transformers\n",
            "    Found existing installation: transformers 4.48.3\n",
            "    Uninstalling transformers-4.48.3:\n",
            "      Successfully uninstalled transformers-4.48.3\n",
            "Successfully installed biopython-1.85 biotite-0.41.2 brotli-1.1.0 esm-3.1.4 jedi-0.19.2 msgpack-numpy-0.4.8 nvidia-cublas-cu12-12.4.5.8 nvidia-cuda-cupti-cu12-12.4.127 nvidia-cuda-nvrtc-cu12-12.4.127 nvidia-cuda-runtime-cu12-12.4.127 nvidia-cudnn-cu12-9.1.0.70 nvidia-cufft-cu12-11.2.1.3 nvidia-curand-cu12-10.3.5.147 nvidia-cusolver-cu12-11.6.1.9 nvidia-cusparse-cu12-12.3.1.170 nvidia-nvjitlink-cu12-12.4.127 tokenizers-0.20.3 torchtext-0.18.0 transformers-4.46.3 zstd-1.5.6.5\n",
            "Requirement already satisfied: matplotlib in /usr/local/lib/python3.11/dist-packages (3.10.0)\n",
            "Requirement already satisfied: contourpy>=1.0.1 in /usr/local/lib/python3.11/dist-packages (from matplotlib) (1.3.1)\n",
            "Requirement already satisfied: cycler>=0.10 in /usr/local/lib/python3.11/dist-packages (from matplotlib) (0.12.1)\n",
            "Requirement already satisfied: fonttools>=4.22.0 in /usr/local/lib/python3.11/dist-packages (from matplotlib) (4.56.0)\n",
            "Requirement already satisfied: kiwisolver>=1.3.1 in /usr/local/lib/python3.11/dist-packages (from matplotlib) (1.4.8)\n",
            "Requirement already satisfied: numpy>=1.23 in /usr/local/lib/python3.11/dist-packages (from matplotlib) (1.26.4)\n",
            "Requirement already satisfied: packaging>=20.0 in /usr/local/lib/python3.11/dist-packages (from matplotlib) (24.2)\n",
            "Requirement already satisfied: pillow>=8 in /usr/local/lib/python3.11/dist-packages (from matplotlib) (11.1.0)\n",
            "Requirement already satisfied: pyparsing>=2.3.1 in /usr/local/lib/python3.11/dist-packages (from matplotlib) (3.2.1)\n",
            "Requirement already satisfied: python-dateutil>=2.7 in /usr/local/lib/python3.11/dist-packages (from matplotlib) (2.8.2)\n",
            "Requirement already satisfied: six>=1.5 in /usr/local/lib/python3.11/dist-packages (from python-dateutil>=2.7->matplotlib) (1.17.0)\n"
          ]
        }
      ],
      "source": [
        "# Install esm and other dependencies\n",
        "! pip install esm\n",
        "! pip install matplotlib"
      ]
    },
    {
      "cell_type": "code",
      "execution_count": 6,
      "metadata": {
        "colab": {
          "base_uri": "https://localhost:8080/"
        },
        "id": "DojpjHwZ9DR0",
        "outputId": "650c20b8-3362-4610-8db1-d11034b8007a"
      },
      "outputs": [
        {
          "name": "stdout",
          "output_type": "stream",
          "text": [
            "Token from Forge console: ··········\n"
          ]
        }
      ],
      "source": [
        "from getpass import getpass\n",
        "\n",
        "token = getpass(\"Token from Forge console: \")"
      ]
    },
    {
      "cell_type": "code",
      "execution_count": 7,
      "metadata": {
        "id": "OpVbfhDk9DR1"
      },
      "outputs": [],
      "source": [
        "from esm.sdk import client\n",
        "\n",
        "model = client(\n",
        "    model=\"esmc-300m-2024-12\", url=\"https://forge.evolutionaryscale.ai\", token=token\n",
        ")"
      ]
    },
    {
      "cell_type": "markdown",
      "metadata": {
        "id": "uUp0g5jN9DR1"
      },
      "source": [
        "# Set up utilities for embedding sequences\n",
        "\n",
        "Since we're embedding more than a few sequences, we're going to use a threaded async call to Forge and let Forge take care of batching and parallelization on the backend."
      ]
    },
    {
      "cell_type": "code",
      "execution_count": 8,
      "metadata": {
        "id": "lSjEiK1E9DR1"
      },
      "outputs": [],
      "source": [
        "from concurrent.futures import ThreadPoolExecutor\n",
        "from typing import Sequence\n",
        "\n",
        "from esm.sdk.api import (\n",
        "    ESM3InferenceClient,\n",
        "    ESMProtein,\n",
        "    ESMProteinError,\n",
        "    LogitsConfig,\n",
        "    LogitsOutput,\n",
        "    ProteinType,\n",
        ")\n",
        "\n",
        "EMBEDDING_CONFIG = LogitsConfig(\n",
        "    sequence=True, return_embeddings=True, return_hidden_states=True\n",
        ")\n",
        "\n",
        "\n",
        "def embed_sequence(model: ESM3InferenceClient, sequence: str) -> LogitsOutput:\n",
        "    protein = ESMProtein(sequence=sequence)\n",
        "    protein_tensor = model.encode(protein)\n",
        "    print(protein_tensor)\n",
        "    output = model.logits(protein_tensor, EMBEDDING_CONFIG)\n",
        "    return output\n",
        "\n",
        "\n",
        "def batch_embed(\n",
        "    model: ESM3InferenceClient, inputs: Sequence[ProteinType]\n",
        ") -> Sequence[LogitsOutput]:\n",
        "    \"\"\"Forge supports auto-batching. So batch_embed() is as simple as running a collection\n",
        "    of embed calls in parallel using asyncio.\n",
        "    \"\"\"\n",
        "    with ThreadPoolExecutor() as executor:\n",
        "        futures = [\n",
        "            executor.submit(embed_sequence, model, protein) for protein in inputs\n",
        "        ]\n",
        "        results = []\n",
        "        for future in futures:\n",
        "            try:\n",
        "                results.append(future.result())\n",
        "            except Exception as e:\n",
        "                results.append(ESMProteinError(500, str(e)))\n",
        "    return results"
      ]
    },
    {
      "cell_type": "markdown",
      "metadata": {
        "id": "7naQpGCd9DR1"
      },
      "source": [
        "# Requesting a specific hidden layer\n",
        "\n",
        "ESM C 6B's hidden states are really large, so we only allow one specific layer to be requested per API call. This also works for other ESM C models, but it is required for ESM C 6B.\n",
        "Refer to https://forge.evolutionaryscale.ai/console to find the number of hidden layers for each model."
      ]
    },
    {
      "cell_type": "code",
      "execution_count": null,
      "metadata": {
        "id": "O-LWF3PP9DR1"
      },
      "outputs": [],
      "source": [
        "# ESMC_6B_EMBEDDING_CONFIG = LogitsConfig(return_hidden_states=True, ith_hidden_layer=55)"
      ]
    },
    {
      "cell_type": "markdown",
      "metadata": {
        "id": "3TIVqwIC9DR1"
      },
      "source": [
        "# Load dataset\n",
        "\n",
        "This dataset is taken from Muir, et al. 2024 [\"Evolutionary-Scale Enzymology Enables Biochemical Constant Prediction Across a Multi-Peaked Catalytic Landscape\"](https://doi.org/10.1101/2024.10.23.619915) which explores a model enzyme called Adenylate Kinase (ADK). Adenylate Kinase appears in many different organisms with different structural classes (referred to as its \"lid type\"). We'll embed this set of ADK sequences and see if we can recover known structural classes."
      ]
    },
    {
      "cell_type": "code",
      "execution_count": 5,
      "metadata": {
        "colab": {
          "base_uri": "https://localhost:8080/"
        },
        "id": "S9Y23s0V9DR2",
        "outputId": "7c29e627-97d5-45a5-ad7e-b19cdaf19014"
      },
      "outputs": [
        {
          "output_type": "stream",
          "name": "stdout",
          "text": [
            "--2025-03-03 07:50:02--  https://docs.google.com/uc?export=download&id=1SpOkL11MJxIgy99dqufvUNJuCiuhxuyg\n",
            "Resolving docs.google.com (docs.google.com)... 142.251.2.101, 142.251.2.113, 142.251.2.138, ...\n",
            "Connecting to docs.google.com (docs.google.com)|142.251.2.101|:443... connected.\n",
            "HTTP request sent, awaiting response... 303 See Other\n",
            "Location: https://drive.usercontent.google.com/download?id=1SpOkL11MJxIgy99dqufvUNJuCiuhxuyg&export=download [following]\n",
            "--2025-03-03 07:50:02--  https://drive.usercontent.google.com/download?id=1SpOkL11MJxIgy99dqufvUNJuCiuhxuyg&export=download\n",
            "Resolving drive.usercontent.google.com (drive.usercontent.google.com)... 74.125.137.132, 2607:f8b0:4023:c03::84\n",
            "Connecting to drive.usercontent.google.com (drive.usercontent.google.com)|74.125.137.132|:443... connected.\n",
            "HTTP request sent, awaiting response... 200 OK\n",
            "Length: 43132 (42K) [application/octet-stream]\n",
            "Saving to: ‘adk.csv’\n",
            "\n",
            "adk.csv             100%[===================>]  42.12K  --.-KB/s    in 0.006s  \n",
            "\n",
            "2025-03-03 07:50:04 (7.13 MB/s) - ‘adk.csv’ saved [43132/43132]\n",
            "\n"
          ]
        }
      ],
      "source": [
        "# !wget --no-check-certificate \"https://docs.google.com/uc?export=download&id=1SpOkL11MJxIgy99dqufvUNJuCiuhxuyg\" -O adk.csv"
      ]
    },
    {
      "cell_type": "code",
      "source": [
        "import pandas as pd\n",
        "adk_path = \"/content/HOM_MouseHumans_sequence.csv\"\n",
        "df = pd.read_csv(adk_path, nrows=10)\n",
        "df = df[[\"sequence_h\", \"sequence_m\"]][:3]\n"
      ],
      "metadata": {
        "id": "YOZcMpdhBgKa"
      },
      "execution_count": 16,
      "outputs": []
    },
    {
      "cell_type": "code",
      "execution_count": 6,
      "metadata": {
        "id": "OcoGUduD9DR2"
      },
      "outputs": [],
      "source": [
        "# import matplotlib.pyplot as plt\n",
        "# import pandas as pd\n",
        "# import seaborn as sns\n",
        "\n",
        "# adk_path = \"adk.csv\"\n",
        "# df = pd.read_csv(adk_path)\n",
        "# df = df[[\"org_name\", \"sequence\", \"lid_type\", \"temperature\"]]\n",
        "# df = df[df[\"lid_type\"] != \"other\"]  # drop one structural class for simplicity"
      ]
    },
    {
      "cell_type": "code",
      "execution_count": 17,
      "metadata": {
        "colab": {
          "base_uri": "https://localhost:8080/"
        },
        "id": "VyKQ5mlh9DR2",
        "outputId": "f4f1f9d7-8a89-46ec-e100-a6803411d5de"
      },
      "outputs": [
        {
          "output_type": "stream",
          "name": "stdout",
          "text": [
            "ESMProteinTensor(sequence=tensor([ 0, 20, 11, 11,  8, 16, 15, 21, 10, 13, 18,  7,  5,  9, 14, 20,  6,  9,\n",
            "        15, 14,  7,  6,  8,  4,  5,  6, 12,  6,  9,  7,  4,  6, 15, 15,  4,  9,\n",
            "         9, 10,  6, 18, 13, 15,  5, 19,  7,  7,  4,  6, 16, 18,  4,  7,  4, 15,\n",
            "        15, 13,  9, 13,  4, 18, 10,  9, 22,  4, 15, 13, 11, 23,  6,  5, 17,  5,\n",
            "        15, 16,  8, 10, 13, 23, 18,  6, 23,  4, 10,  9, 22, 23, 13,  5, 18,  4,\n",
            "         2]), structure=None, secondary_structure=None, sasa=None, function=None, residue_annotations=None, coordinates=None, potential_sequence_of_concern=False)\n",
            "ESMProteinTensor(sequence=tensor([ 0, 20,  6,  8,  6,  8,  8,  8, 19, 10, 14, 15,  5, 12, 19,  4, 13, 12,\n",
            "        13,  6, 10, 12, 16, 15,  7, 12, 18,  8, 15, 19, 23, 17,  8,  8, 13, 12,\n",
            "        20, 13,  4, 18, 23, 12,  5, 11,  6,  4, 14, 10, 17, 11, 11, 12,  8,  4,\n",
            "         4, 11, 11, 13, 13,  5, 20,  7,  8, 12, 13, 14, 11, 20, 14,  5, 17,  8,\n",
            "         9, 10, 11, 14, 19, 15,  7, 10, 14,  7,  5, 12, 15, 16,  4,  8,  5,  6,\n",
            "         7,  9, 13, 15, 10, 11, 11,  8, 10,  6, 16,  8,  5,  9, 10, 14,  4, 10,\n",
            "        13, 10, 10,  7,  7,  6,  4,  9, 16, 14, 10, 10,  9,  6,  5, 18,  9,  8,\n",
            "         6, 16,  7,  9, 14, 10, 14, 10,  9, 14, 16,  6, 23, 19, 16,  9,  6, 16,\n",
            "        10, 12, 14, 14,  9, 10,  9,  9,  4, 12, 16,  8,  7,  4,  5, 16,  7,  5,\n",
            "         9, 16, 18,  8, 10,  5, 18, 15, 12, 17,  9,  4, 15,  5,  9,  7,  5, 17,\n",
            "        21,  4,  5,  7,  4,  9, 15, 10,  7,  9,  4,  9,  6,  4, 15,  7,  7,  9,\n",
            "        12,  9, 15, 23, 15,  8, 13, 12, 15, 15, 20, 10,  9,  9,  4,  5,  5, 10,\n",
            "         8,  8, 10, 11, 17, 23, 14, 23, 15, 19,  8, 18,  4, 13, 17, 21, 15, 15,\n",
            "         4, 11, 14, 10, 10, 13,  7, 14, 11, 19, 14, 15, 19,  4,  4,  8, 14,  9,\n",
            "        11, 12,  9,  5,  4, 10, 15, 14, 11, 18, 13,  7, 22,  4, 22,  9, 14, 17,\n",
            "         9, 20,  4,  8, 23,  4,  9, 21, 20, 19, 21, 13,  4,  6,  4,  7, 10, 13,\n",
            "        18,  8, 12, 17, 14,  7, 11,  4, 10, 10, 22,  4, 18, 23,  7, 21, 13, 17,\n",
            "        19, 10, 17, 17, 14, 18, 21, 17, 18, 10, 21, 23, 18, 23,  7,  5, 16, 20,\n",
            "        20, 19,  8, 20,  7, 22,  4, 23,  8,  4, 16,  9, 15, 18,  8, 16, 11, 13,\n",
            "        12,  4, 12,  4, 20, 11,  5,  5, 12, 23, 21, 13,  4, 13, 21, 14,  6, 19,\n",
            "        17, 17, 11, 19, 16, 12, 17,  5, 10, 11,  9,  4,  5,  7, 10, 19, 17, 13,\n",
            "        12,  8, 14,  4,  9, 17, 21, 21, 23,  5,  7,  5, 18, 16, 12,  4,  5,  9,\n",
            "        14,  9, 23, 17, 12, 18,  8, 17, 12, 14, 14, 13,  6, 18, 15, 16, 12, 10,\n",
            "        16,  6, 20, 12, 11,  4, 12,  4,  5, 11, 13, 20,  5, 10, 21,  5,  9, 12,\n",
            "        20, 13,  8, 18, 15,  9, 15, 20,  9, 17, 18, 13, 19,  8, 17,  9,  9, 21,\n",
            "        20, 11,  4,  4, 15, 20, 12,  4, 12, 15, 23, 23, 13, 12,  8, 17,  9,  7,\n",
            "        10, 14, 20,  9,  7,  5,  9, 14, 22,  7, 13, 23,  4,  4,  9,  9, 19, 18,\n",
            "        20, 16,  8, 13, 10,  9, 15,  8,  9,  6,  4, 14,  7,  5, 14, 18, 20, 13,\n",
            "        10, 13, 15,  7, 11, 15,  5, 11,  5, 16, 12,  6, 18, 12, 15, 18,  7,  4,\n",
            "        12, 14, 20, 18,  9, 11,  7, 11, 15,  4, 18, 14, 20,  7,  9,  9, 12, 20,\n",
            "         4, 16, 14,  4, 22,  9,  8, 10, 13, 10, 19,  9,  9,  4, 15, 10, 12, 13,\n",
            "        13,  5, 20, 15,  9,  4, 16, 15, 15, 11, 13,  8,  4, 11,  8,  6,  5, 11,\n",
            "         9, 15,  8, 10,  9, 10,  8, 10, 13,  7, 15, 17,  8,  9,  6, 13, 23,  5,\n",
            "         2]), structure=None, secondary_structure=None, sasa=None, function=None, residue_annotations=None, coordinates=None, potential_sequence_of_concern=False)\n",
            "ESMProteinTensor(sequence=tensor([ 0, 20, 17, 14, 12,  7,  7,  7, 21,  6,  6,  6,  5,  6, 14, 12,  8, 15,\n",
            "        13, 10, 15,  9, 10,  7, 21, 16,  6, 20,  7, 10,  5,  5, 11,  7,  6, 19,\n",
            "         6, 12,  4, 10,  9,  6,  6,  8,  5,  7, 13,  5,  7,  9,  6,  5,  7,  7,\n",
            "         5,  4,  9, 13, 13, 14,  9, 18, 17,  5,  6, 23,  6,  8,  7,  4, 17, 11,\n",
            "        17,  6,  9,  7,  9, 20, 13,  5,  8, 12, 20, 13,  6, 15, 13,  4,  8,  5,\n",
            "         6,  5,  7,  8,  5,  7, 16, 23, 12,  5, 17, 14, 12, 15,  4,  5, 10,  4,\n",
            "         7, 20,  9, 15, 11, 14, 21, 23, 18,  4, 11, 13, 16,  6,  5,  5, 16, 18,\n",
            "         5,  5,  5, 20,  6,  7, 14,  9, 12, 14,  6,  9, 15,  4,  7, 11,  9, 10,\n",
            "        17, 15, 15, 10,  4,  9, 15,  9, 15, 21,  9, 15,  6,  5, 16, 15, 11, 13,\n",
            "        23, 16, 15, 17,  4,  6, 11,  7,  6,  5,  7,  5,  4, 13, 23, 15,  6, 17,\n",
            "         7,  5, 19,  5, 11,  8, 11,  6,  6, 12,  7, 17, 15, 20,  7,  6, 10,  7,\n",
            "         6, 13,  8, 14, 23,  4,  6,  5,  6,  6, 19,  5, 13, 17, 13, 12,  6,  5,\n",
            "         7,  8, 11, 11,  6, 21,  6,  9,  8, 12,  4, 15,  7, 17,  4,  5, 10,  4,\n",
            "        11,  4, 18, 21, 12,  9, 16,  6, 15, 11,  7,  9,  9,  5,  5, 13,  4,  8,\n",
            "         4,  6, 19, 20, 15,  8, 10,  7, 15,  6,  4,  6,  6,  4, 12,  7,  7,  8,\n",
            "        15, 11,  6, 13, 22,  7,  5, 15, 22, 11,  8, 11,  8, 20, 14, 22,  5,  5,\n",
            "         5, 15, 13,  6, 15,  4, 21, 18,  6, 12, 13, 14, 13, 13, 11, 11, 12, 11,\n",
            "        13,  4, 14,  2]), structure=None, secondary_structure=None, sasa=None, function=None, residue_annotations=None, coordinates=None, potential_sequence_of_concern=False)\n",
            "ESMProteinTensor(sequence=tensor([ 0, 20, 11, 11,  8, 16, 15, 21, 10, 13, 18,  7,  5,  9, 14, 20,  6,  9,\n",
            "        15, 14,  7,  6,  8,  4,  5,  6, 12,  6, 13,  7,  4,  8, 15, 10,  4,  9,\n",
            "         9, 10,  6, 18, 13, 15,  5, 19,  7,  7,  4,  6, 16, 18,  4,  7,  4, 15,\n",
            "        15, 13,  9, 13,  4, 18, 10,  9, 22,  4, 15, 13, 11, 23,  6,  5, 17,  5,\n",
            "        15, 16,  8, 10, 13, 23, 18,  6, 23,  4, 10,  9, 22, 23, 13,  5, 18,  4,\n",
            "         2]), structure=None, secondary_structure=None, sasa=None, function=None, residue_annotations=None, coordinates=None, potential_sequence_of_concern=False)\n",
            "ESMProteinTensor(sequence=tensor([ 0, 20,  5, 23,  5, 10,  6, 11,  7,  5, 14, 14,  7, 10,  5,  8, 12, 13,\n",
            "         7,  8,  4,  7,  7,  7,  7, 21,  6,  6,  6,  5,  8, 17, 12,  8,  5, 17,\n",
            "        10, 15,  9,  4,  7, 10,  9,  6, 12,  5, 10,  5,  5, 11,  9,  6, 19, 15,\n",
            "        12,  4, 15,  5,  6,  6,  8,  5,  7, 13,  5,  7,  9,  6,  5,  7, 11,  7,\n",
            "         4,  9, 17, 13, 14,  9, 18, 17,  5,  6, 19,  6,  8,  7,  4, 17,  7, 17,\n",
            "         6, 13, 12,  9, 20, 13,  5,  8, 12, 20, 13,  6, 15, 13,  4,  8,  5,  6,\n",
            "         5,  7,  8,  5,  7, 10, 23, 12,  5, 17, 14,  7, 15,  4,  5, 10,  4,  7,\n",
            "        20,  9, 15, 11, 14, 21, 23, 18,  4, 11,  6, 21,  6,  5,  9, 15, 18,  5,\n",
            "         9, 13, 20,  6, 12, 14, 16,  7, 14,  7,  9, 15,  4, 12, 11,  9, 10, 11,\n",
            "        15, 15, 21,  4,  9, 15,  9, 15,  4,  9, 15,  6,  5, 16, 17,  5, 13, 23,\n",
            "        14, 15, 17,  8,  6, 11,  7,  6,  5,  7,  5,  4, 13, 23, 10,  6, 17,  4,\n",
            "         5, 19,  5, 11,  8, 11,  6,  6, 12,  7, 17, 15, 20,  7,  6, 10,  7,  6,\n",
            "        13,  8, 14, 23, 12,  6,  5,  6,  6, 19,  5, 13, 17, 17,  4,  6,  5,  7,\n",
            "         8, 11, 11,  6, 21,  6,  9,  8, 12,  4, 15,  7, 17,  4,  5, 10,  4,  5,\n",
            "         4, 18, 21,  7,  9, 16,  6, 15, 11,  7,  9,  9,  5,  5, 16,  4,  5,  4,\n",
            "        13, 19, 20, 15,  8, 15,  4, 15,  6,  4,  6,  6,  4, 12,  4,  7, 17, 15,\n",
            "        11,  6, 13, 22,  7,  5, 15, 22, 11,  8,  5,  8, 20, 14, 22,  5,  5,  7,\n",
            "        15, 17,  6, 15,  4, 16,  5,  6, 12, 13,  4, 23,  9, 11, 10, 11, 10, 13,\n",
            "         4, 14, 23,  2]), structure=None, secondary_structure=None, sasa=None, function=None, residue_annotations=None, coordinates=None, potential_sequence_of_concern=False)\n",
            "ESMProteinTensor(sequence=tensor([ 0, 20,  6,  5,  6,  8,  8,  8, 19, 10, 14, 15,  5, 12, 19,  4, 13, 12,\n",
            "        13,  6, 10, 12, 16, 15,  7,  7, 18,  8, 15, 19, 23, 17,  8,  8, 13, 12,\n",
            "        20, 13,  4, 18, 23, 12,  5, 11,  6,  4, 14, 10, 17, 11, 11, 12,  8,  4,\n",
            "         4, 11, 11, 13, 13,  5, 20,  7,  8, 12, 13, 14, 11, 20, 14,  5, 17,  8,\n",
            "         9, 10, 11, 14, 19, 15,  7, 10, 14,  7,  5,  7, 15, 16,  7,  8,  9, 10,\n",
            "         9,  9,  4, 12, 16,  6,  7,  4,  5, 16,  7,  5,  9, 16, 18,  8, 10,  5,\n",
            "        18, 15, 12, 17,  9,  4, 15,  5,  9,  7,  5, 17, 21,  4,  5,  7,  4,  9,\n",
            "        15, 10,  7,  9,  4,  9,  6,  4, 15,  7,  7,  9, 12,  9, 15, 23, 15,  8,\n",
            "        13, 12, 15, 15, 20, 10,  9,  9,  4,  5,  5, 10, 17,  8, 10, 11, 17, 23,\n",
            "        14, 23, 15, 19,  8, 18,  4, 13, 17, 15, 15,  4, 11, 14, 10, 10, 13,  7,\n",
            "        14, 11, 19, 14, 15, 19,  4,  4,  8, 14,  9, 11, 12,  9,  5,  4, 10, 15,\n",
            "        14, 11, 18, 13,  7, 22,  4, 22,  9, 14, 17,  9, 20,  4,  8, 23,  4,  9,\n",
            "        21, 20, 19, 21, 13,  4,  6,  4,  7, 10, 13, 18,  8, 12, 17, 14, 12, 11,\n",
            "         4, 10, 10, 22,  4,  4, 23,  7, 21, 13, 17, 19, 10, 17, 17, 14, 18, 21,\n",
            "        17, 18, 10, 21, 23, 18, 23,  7, 11, 16, 20, 20, 19,  8, 20,  7, 22,  4,\n",
            "        23,  6,  4, 16,  9, 15, 18,  8, 16, 20, 13, 12,  4,  7,  4, 20, 11,  5,\n",
            "         5, 12, 23, 21, 13,  4, 13, 21, 14,  6, 19, 17, 17, 11, 19, 16, 12, 17,\n",
            "         5, 10, 11,  9,  4,  5,  7, 10, 19, 17, 13, 12,  8, 14,  4,  9, 17, 21,\n",
            "        21, 23,  5, 12,  5, 18, 16, 12,  4,  5, 10, 14,  9, 23, 17, 12, 18,  5,\n",
            "         8,  7, 14, 14,  9,  6, 18, 10, 16, 12, 10, 16,  6, 20, 12, 11,  4, 12,\n",
            "         4,  5, 11, 13, 20,  5, 10, 21,  5,  9, 12, 20, 13,  8, 18, 15,  9, 15,\n",
            "        20,  9, 17, 18, 13, 19,  8, 17,  9,  9, 21,  4, 11,  4,  4, 15, 20, 12,\n",
            "         4, 12, 15, 23, 23, 13, 12,  8, 17,  9,  7, 10, 14, 20,  9,  7,  5,  9,\n",
            "        14, 22,  7, 13, 23,  4,  4,  9,  9, 19, 18, 20, 16,  8, 13, 10,  9, 15,\n",
            "         8,  9,  6,  4, 14,  7,  5, 14, 18, 20, 13, 10, 13, 15,  7, 11, 15,  5,\n",
            "        11,  5, 16, 12,  6, 18, 12, 15, 18,  7,  4, 12, 14, 20, 18,  9, 11,  7,\n",
            "        11, 15,  4, 18, 14,  7,  7,  9,  9, 11, 20,  4, 10, 14,  4, 22,  9,  8,\n",
            "        10,  9, 21, 19,  9,  9,  4, 15, 16,  4, 13, 13,  5, 20, 15,  9,  4, 16,\n",
            "        15, 15, 11,  9,  8,  4, 11,  8,  6,  5, 14,  9, 17, 11, 11,  9, 15, 17,\n",
            "        10, 13,  5, 15, 13,  8,  9,  6, 21,  8, 14, 14, 17,  2]), structure=None, secondary_structure=None, sasa=None, function=None, residue_annotations=None, coordinates=None, potential_sequence_of_concern=False)\n"
          ]
        }
      ],
      "source": [
        "# You may see some error messages due to rate limits on each Forge account,\n",
        "# but this will retry until the embedding job is complete\n",
        "# This may take a few minutes to run\n",
        "outputs_h = batch_embed(model, df[\"sequence_h\"].tolist())\n",
        "outputs_m = batch_embed(model, df[\"sequence_m\"].tolist())"
      ]
    },
    {
      "cell_type": "code",
      "source": [
        "outputs_h"
      ],
      "metadata": {
        "colab": {
          "base_uri": "https://localhost:8080/"
        },
        "id": "3Ah0qNqmDJdw",
        "outputId": "5a251472-8fe2-4169-e5a1-a332b6c8ec5f"
      },
      "execution_count": 13,
      "outputs": [
        {
          "output_type": "execute_result",
          "data": {
            "text/plain": [
              "[LogitsOutput(logits=ForwardTrackData(sequence=tensor([[-35.2500, -35.2500, -35.2500,  ..., -35.2500, -35.2500, -35.2500],\n",
              "         [-38.0000, -38.0000, -38.0000,  ..., -38.0000, -38.0000, -38.0000],\n",
              "         [-30.6250, -30.6250, -30.5000,  ..., -30.5000, -30.5000, -30.5000],\n",
              "         ...,\n",
              "         [-21.6250, -21.5000, -21.5000,  ..., -21.5000, -21.6250, -21.6250],\n",
              "         [-28.3750, -28.3750, -28.3750,  ..., -28.3750, -28.5000, -28.3750],\n",
              "         [-32.7500, -32.7500, -32.7500,  ..., -32.7500, -32.7500, -32.7500]]), structure=None, secondary_structure=None, sasa=None, function=None), embeddings=tensor([[[ 0.0014,  0.0081,  0.0066,  ...,  0.0061, -0.0117, -0.0173],\n",
              "          [-0.0017,  0.0185, -0.0162,  ..., -0.0232, -0.0509, -0.0215],\n",
              "          [-0.0291,  0.0337, -0.0151,  ..., -0.0305, -0.0626, -0.0497],\n",
              "          ...,\n",
              "          [-0.0213, -0.0045, -0.0337,  ..., -0.0349, -0.0101,  0.0056],\n",
              "          [-0.0072, -0.0406, -0.0065,  ...,  0.0179, -0.0546,  0.0008],\n",
              "          [ 0.0225,  0.0466, -0.0226,  ..., -0.0166, -0.0789, -0.0245]]]), residue_annotation_logits=None, hidden_states=tensor([[[[-5.1953e-01,  2.8906e-01, -1.3184e-01,  ..., -3.3789e-01,\n",
              "            -1.6992e-01,  9.1406e-01],\n",
              "           [-2.3926e-02, -1.1084e-01,  1.3379e-01,  ..., -2.7734e-01,\n",
              "            -1.5156e+00, -2.9492e-01],\n",
              "           [-2.4902e-01, -5.5078e-01,  4.4141e-01,  ...,  3.4375e-01,\n",
              "             6.0938e-01, -2.7148e-01],\n",
              "           ...,\n",
              "           [ 5.5469e-01, -1.6309e-01, -5.0391e-01,  ..., -7.3242e-02,\n",
              "             5.1172e-01, -1.2402e-01],\n",
              "           [ 8.5449e-02, -3.3691e-02,  7.0312e-01,  ..., -1.2891e-01,\n",
              "             2.2266e-01, -2.7539e-01],\n",
              "           [ 2.2461e-01,  1.9629e-01,  1.6328e+00,  ...,  3.9062e-02,\n",
              "            -3.5742e-01, -2.5977e-01]]],\n",
              " \n",
              " \n",
              "         [[[-4.6875e-01, -4.5166e-03, -8.0078e-02,  ..., -2.8906e-01,\n",
              "            -1.2817e-02,  2.4219e-01],\n",
              "           [-8.4961e-02,  1.2695e-01,  8.0859e-01,  ..., -2.7148e-01,\n",
              "            -1.6172e+00, -4.3555e-01],\n",
              "           [-2.9688e-01, -8.9844e-02,  7.9297e-01,  ..., -1.3672e-01,\n",
              "             4.7070e-01, -7.0703e-01],\n",
              "           ...,\n",
              "           [-2.7539e-01, -3.9258e-01, -8.3594e-01,  ..., -5.9766e-01,\n",
              "             9.5312e-01, -1.1621e-01],\n",
              "           [-4.8633e-01, -6.2891e-01,  1.1035e-01,  ..., -3.7500e-01,\n",
              "             4.0039e-01, -6.4844e-01],\n",
              "           [-5.7031e-01,  3.5156e-02,  1.2578e+00,  ..., -6.6406e-02,\n",
              "            -5.1270e-02, -4.0625e-01]]],\n",
              " \n",
              " \n",
              "         [[[-5.8984e-01,  7.3242e-02, -3.3984e-01,  ..., -2.4512e-01,\n",
              "            -5.2185e-03, -4.3945e-02],\n",
              "           [-2.3438e-02,  4.5312e-01,  1.2734e+00,  ..., -1.8262e-01,\n",
              "            -1.2969e+00, -2.4414e-01],\n",
              "           [-1.1094e+00,  1.2402e-01,  1.3047e+00,  ..., -3.5938e-01,\n",
              "             6.2891e-01, -3.2422e-01],\n",
              "           ...,\n",
              "           [-3.1250e-01,  4.5312e-01, -6.7578e-01,  ..., -5.3125e-01,\n",
              "             1.1328e+00, -1.9531e-01],\n",
              "           [-1.7383e-01, -4.7656e-01, -1.1719e-02,  ..., -5.1172e-01,\n",
              "             2.3047e-01, -6.8359e-01],\n",
              "           [-5.8203e-01, -1.1670e-01,  9.2969e-01,  ...,  1.7480e-01,\n",
              "             6.0547e-02, -4.5703e-01]]],\n",
              " \n",
              " \n",
              "         ...,\n",
              " \n",
              " \n",
              "         [[[-7.4375e+00,  1.1438e+01, -1.4625e+01,  ..., -1.1250e+01,\n",
              "             2.0250e+01, -6.0000e+01],\n",
              "           [ 4.8000e+01, -1.7625e+01,  7.0938e+00,  ..., -8.5625e+00,\n",
              "            -2.0125e+01, -9.5000e+00],\n",
              "           [-2.6250e+01, -4.8750e+00,  8.7500e-01,  ..., -1.5000e+01,\n",
              "             2.0125e+01, -2.7500e+00],\n",
              "           ...,\n",
              "           [ 6.5000e+00,  5.2500e+01, -3.6250e+01,  ..., -5.9500e+01,\n",
              "             6.0500e+01,  8.5000e+00],\n",
              "           [ 1.2500e+00,  9.1250e+00,  3.9000e+01,  ...,  8.0625e+00,\n",
              "            -4.4500e+01, -1.4312e+01],\n",
              "           [ 1.5875e+01,  2.5500e+01,  2.3250e+01,  ..., -1.5188e+01,\n",
              "             6.4688e+00, -2.8875e+01]]],\n",
              " \n",
              " \n",
              "         [[[ 2.6875e+01,  1.1875e+00, -1.9375e+01,  ...,  1.9609e+00,\n",
              "             9.6250e+00, -7.4500e+01],\n",
              "           [ 2.2875e+01,  4.9500e+01, -4.7500e+01,  ..., -5.3250e+01,\n",
              "            -2.8500e+01, -4.9000e+01],\n",
              "           [-5.8000e+01,  1.2938e+01, -6.2500e+01,  ...,  1.8000e+01,\n",
              "            -5.4000e+01, -6.7000e+01],\n",
              "           ...,\n",
              "           [-4.7500e+01,  1.5562e+01, -3.2500e+01,  ..., -8.9500e+01,\n",
              "             6.0000e+00,  2.6250e+00],\n",
              "           [-3.7250e+01, -3.7750e+01, -1.1875e+01,  ...,  5.8750e+01,\n",
              "            -7.2500e+01, -2.8250e+01],\n",
              "           [-6.2500e-02,  5.1500e+01, -2.0000e+01,  ..., -4.1000e+01,\n",
              "            -5.1250e+01, -4.1750e+01]]],\n",
              " \n",
              " \n",
              "         [[[ 1.3896e-03,  8.0937e-03,  6.5958e-03,  ...,  6.0547e-03,\n",
              "            -1.1680e-02, -1.7264e-02],\n",
              "           [-1.6980e-03,  1.8512e-02, -1.6221e-02,  ..., -2.3239e-02,\n",
              "            -5.0898e-02, -2.1550e-02],\n",
              "           [-2.9128e-02,  3.3679e-02, -1.5062e-02,  ..., -3.0501e-02,\n",
              "            -6.2610e-02, -4.9722e-02],\n",
              "           ...,\n",
              "           [-2.1294e-02, -4.5065e-03, -3.3650e-02,  ..., -3.4928e-02,\n",
              "            -1.0087e-02,  5.5581e-03],\n",
              "           [-7.2007e-03, -4.0572e-02, -6.5314e-03,  ...,  1.7865e-02,\n",
              "            -5.4604e-02,  7.6304e-04],\n",
              "           [ 2.2531e-02,  4.6567e-02, -2.2574e-02,  ..., -1.6569e-02,\n",
              "            -7.8868e-02, -2.4474e-02]]]]))]"
            ]
          },
          "metadata": {},
          "execution_count": 13
        }
      ]
    },
    {
      "cell_type": "code",
      "execution_count": 20,
      "metadata": {
        "colab": {
          "base_uri": "https://localhost:8080/"
        },
        "id": "PrgsnfWi9DR3",
        "outputId": "6954506b-46ab-4f02-a7ec-4a74215196de"
      },
      "outputs": [
        {
          "output_type": "stream",
          "name": "stdout",
          "text": [
            "embedding shape [num_layers, hidden_size]: torch.Size([31, 960])\n"
          ]
        }
      ],
      "source": [
        "import torch\n",
        "\n",
        "# we'll summarize the embeddings using their mean across the sequence dimension\n",
        "# which allows us to compare embeddings for sequences of different lengths\n",
        "all_mean_embeddings_h = [\n",
        "    torch.mean(output.hidden_states, dim=-2).squeeze() for output in outputs_h\n",
        "]\n",
        "all_mean_embeddings_m = [\n",
        "    torch.mean(output.hidden_states, dim=-2).squeeze() for output in outputs_m\n",
        "]\n"
      ]
    },
    {
      "cell_type": "code",
      "source": [
        "\n",
        "# now we have a list of tensors of [num_layers, hidden_size]\n",
        "print(\"embedding shape [num_layers, hidden_size]:\", all_mean_embeddings_h[0].shape)"
      ],
      "metadata": {
        "id": "N_tRZP1OHnxo",
        "outputId": "fa2b7572-a78e-4aba-8faa-1894839dbdc4",
        "colab": {
          "base_uri": "https://localhost:8080/"
        }
      },
      "execution_count": 31,
      "outputs": [
        {
          "output_type": "stream",
          "name": "stdout",
          "text": [
            "embedding shape [num_layers, hidden_size]: torch.Size([31, 960])\n"
          ]
        }
      ]
    },
    {
      "cell_type": "markdown",
      "metadata": {
        "id": "x9-qPV569DR3"
      },
      "source": [
        "# Examine the performance of different layer embeddings\n",
        "\n",
        "For this example, we're going to use PCA to visualize whether the embeddings separate our proteins by their structural class. To assess the quality of our PCA, we fit a K means classifier with three clusters, corresponding to the three structural classes of our enzyme, and compute the [rand index](https://en.wikipedia.org/wiki/Rand_index), a measure of the quality of the clustering."
      ]
    },
    {
      "cell_type": "code",
      "execution_count": 22,
      "metadata": {
        "id": "LUznYuNM9DR3"
      },
      "outputs": [],
      "source": [
        "from sklearn.cluster import KMeans\n",
        "from sklearn.decomposition import PCA\n",
        "from sklearn.metrics import adjusted_rand_score\n",
        "import matplotlib.pyplot as plt\n",
        "import pandas as pd\n",
        "import seaborn as sns\n",
        "N_KMEANS_CLUSTERS = 3"
      ]
    },
    {
      "cell_type": "code",
      "execution_count": 27,
      "metadata": {
        "id": "d1uuDe5z9DR3"
      },
      "outputs": [],
      "source": [
        "\n",
        "\n",
        "def plot_embeddings_at_layer(all_mean_embeddings_h, all_mean_embeddings_m, layer_idx: int, df: pd.DataFrame):\n",
        "    # 将 `sequence_h` 和 `sequence_m` 嵌入向量合并\n",
        "    embeddings_h = torch.stack([embedding[layer_idx, :] for embedding in all_mean_embeddings_h]).numpy()\n",
        "    embeddings_m = torch.stack([embedding[layer_idx, :] for embedding in all_mean_embeddings_m]).numpy()\n",
        "\n",
        "    # 合并两个嵌入\n",
        "    stacked_mean_embeddings = np.vstack([embeddings_h, embeddings_m])\n",
        "\n",
        "    # 使用 PCA 降维到 2D\n",
        "    pca = PCA(n_components=2)\n",
        "    projected_mean_embeddings = pca.fit_transform(stacked_mean_embeddings)\n",
        "\n",
        "    # KMeans 聚类\n",
        "    kmeans = KMeans(n_clusters=2, random_state=0).fit(projected_mean_embeddings)\n",
        "    kmeans_labels = kmeans.labels_\n",
        "\n",
        "    # 计算 Adjusted Rand Index (ARI) 评估聚类效果\n",
        "    rand_index = adjusted_rand_score([0] * len(embeddings_h) + [1] * len(embeddings_m), kmeans_labels)\n",
        "\n",
        "    # 标签：0 表示 `sequence_h`，1 表示 `sequence_m`\n",
        "    labels = [0] * len(embeddings_h) + [1] * len(embeddings_m)\n",
        "\n",
        "    # 绘制 PCA + KMeans 聚类结果\n",
        "    plt.figure(figsize=(6, 6))\n",
        "    sns.scatterplot(\n",
        "        x=projected_mean_embeddings[:, 0],\n",
        "        y=projected_mean_embeddings[:, 1],\n",
        "        hue=kmeans_labels,  # 用颜色表示 KMeans 结果\n",
        "        palette=\"viridis\",\n",
        "        style=labels,  # 用形状区分 sequence_h (o) 和 sequence_m (s)\n",
        "        markers=[\"o\", \"s\"],\n",
        "    )\n",
        "\n",
        "    # 标题\n",
        "    plt.title(f\"PCA of Mean Embeddings at Layer {layer_idx} (Rand Index: {rand_index:.2f})\")\n",
        "    plt.xlabel(\"PC 1\")\n",
        "    plt.ylabel(\"PC 2\")\n",
        "    plt.legend(title=\"Cluster\", loc=\"best\")\n",
        "    plt.show()\n"
      ]
    },
    {
      "cell_type": "code",
      "execution_count": 28,
      "metadata": {
        "colab": {
          "base_uri": "https://localhost:8080/",
          "height": 1000
        },
        "id": "J1Gedlyn9DR3",
        "outputId": "441a8d92-ca7d-46ca-a0e0-481f7dffab52"
      },
      "outputs": [
        {
          "output_type": "display_data",
          "data": {
            "text/plain": [
              "<Figure size 600x600 with 1 Axes>"
            ],
            "image/png": "[encoded data removed]"
          },
          "metadata": {}
        },
        {
          "output_type": "display_data",
          "data": {
            "text/plain": [
              "<Figure size 600x600 with 1 Axes>"
            ],
            "image/png": "[encoded data removed]"
          },
          "metadata": {}
        }
      ],
      "source": [
        "plot_embeddings_at_layer(all_mean_embeddings_h, all_mean_embeddings_m, layer_idx=30, df=df)\n",
        "plot_embeddings_at_layer(all_mean_embeddings_h, all_mean_embeddings_m, layer_idx=12, df=df)"
      ]
    },
    {
      "cell_type": "markdown",
      "metadata": {
        "id": "etv-ZDh29DR3"
      },
      "source": [
        "We see that the top principal components of layer 12 separate structural classes better than that of layer 30. Embed away! And keep in mind that different layers may be better or worse for your particular use-case."
      ]
    }
  ],
  "metadata": {
    "kernelspec": {
      "display_name": "openesm",
      "language": "python",
      "name": "esmopen"
    },
    "colab": {
      "provenance": []
    }
  },
  "nbformat": 4,
  "nbformat_minor": 0
}